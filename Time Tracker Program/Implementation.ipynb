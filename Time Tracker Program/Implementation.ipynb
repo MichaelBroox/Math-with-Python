{
 "cells": [
  {
   "cell_type": "markdown",
   "metadata": {},
   "source": [
    "![AddictivePtyhon](AddictivePython.png)"
   ]
  },
  {
   "cell_type": "code",
   "execution_count": null,
   "metadata": {},
   "outputs": [],
   "source": [
    "# importing pandas and datetime libraries.\n",
    "import pandas as pd\n",
    "import datetime"
   ]
  },
  {
   "cell_type": "code",
   "execution_count": 1,
   "metadata": {},
   "outputs": [
    {
     "name": "stdout",
     "output_type": "stream",
     "text": [
      "Enter the start date in YYYY/MM/DD: 2020/07/30\n",
      "Enter the end date in YYYY/MM/DD: 2020/07/30\n",
      "Enter the start time in HH:MM GMT: 6:00\n",
      "Enter the end time in HH:MM GMT: 20:00\n",
      "\n",
      "---------------------------------------------------------\n",
      "---------------------------------------------------------\n",
      "Amount of money Nana made on tackling the task is: $70.0\n",
      "---------------------------------------------------------\n",
      "---------------------------------------------------------\n",
      "Excel file preview: \n",
      "  Time Started Time Ended Date Started  Date Ended  Hours Spent  Amount Made\n",
      "0     06:00:00   20:00:00   2020-07-30  2020-07-30         14.0         70.0\n"
     ]
    }
   ],
   "source": [
    "try:\n",
    "    # Taking date a particular task was started from user.\n",
    "    start_date = input('Enter the start date in YYYY/MM/DD: ') \n",
    "    # Taking date a particular task was finished from user.\n",
    "    end_date = input('Enter the end date in YYYY/MM/DD: ')\n",
    "    \n",
    "    # Splitting starting date.\n",
    "    start_year, start_month, start_day = map(int, start_date.split('/'))\n",
    "    # Splitting ending date.\n",
    "    end_year, end_month, end_day = map(int, end_date.split('/'))\n",
    "    \n",
    "    # Converting starting date to a datetime.date object.\n",
    "    date1 = datetime.date(start_year, start_month, start_day)\n",
    "    # Converting ending date to a datetime.date object.\n",
    "    date2 = datetime.date(end_year, end_month, end_day)\n",
    "    \n",
    "    # Taking time a particular task was started from user.\n",
    "    start_time = input('Enter the start time in HH:MM GMT: ')\n",
    "    # Taking time a particular task was finished from user.\n",
    "    end_time = input('Enter the end time in HH:MM GMT: ')\n",
    "    \n",
    "    # Splitting starting time.\n",
    "    start_hour, start_minutes = map(int, start_time.split(':'))\n",
    "    # Splitting ending time\n",
    "    end_hour, end_minutes = map(int, end_time.split(':'))\n",
    "    \n",
    "    # Converting starting time to a datetime.time object.\n",
    "    time1 = datetime.time(start_hour, start_minutes)\n",
    "    # Converting ending time to a datetime.time object.\n",
    "    time2 = datetime.time(end_hour, end_minutes)\n",
    "    \n",
    "    # Converting starting date and starting time to a datetime.datetime object.\n",
    "    start_datetime1 = datetime.datetime.combine(date1, time1)\n",
    "    # Converting ending date and ending time to a datetime.datetime object.\n",
    "    start_datetime2 = datetime.datetime.combine(date2, time2)\n",
    "    \n",
    "    # Getting the time difference between the two datetime.datetime objects.\n",
    "    time_difference = start_datetime1 - start_datetime2\n",
    "\n",
    "    # Calculating the hours spent on a task.\n",
    "    hours_spent = abs(time_difference.total_seconds() / 3600)\n",
    "\n",
    "    # Amount paid per hour on a task.\n",
    "    amount_paid_per_hour = 5.0\n",
    "\n",
    "    # Calculating the amount made on a task.\n",
    "    amount_made = hours_spent * amount_paid_per_hour\n",
    "\n",
    "    # Displaying amount made on tackling a task.\n",
    "    print(\"\\n---------------------------------------------------------\")\n",
    "    print(\"---------------------------------------------------------\")\n",
    "    print(f\"Amount of money Nana made on tackling the task is: ${amount_made}\")\n",
    "    print(\"---------------------------------------------------------\")\n",
    "    print(\"---------------------------------------------------------\")\n",
    "\n",
    "\n",
    "    # Converting information to a pandas dataframe object.\n",
    "    data = pd.DataFrame({\n",
    "        'Time Started' : time1,\n",
    "        'Time Ended' : time2,\n",
    "        'Date Started' : date1,\n",
    "        'Date Ended' : date2,\n",
    "        'Hours Spent' : hours_spent,\n",
    "        'Amount Made' : amount_made,\n",
    "    }, index=[0])\n",
    "\n",
    "    # Saving information to an excel file in the same working directory.\n",
    "    data.to_excel('data.xlsx', index=True)\n",
    "        \n",
    "except:\n",
    "    # Catching User Error!\n",
    "    print('\\nPlease enter a correct date/time format!')\n",
    "    print('Check if date is in this format YYYY/MM/DD and time in HH:MM')\n",
    "    print('Example... \\nDate: 2020/07/30 \\nTime: 21:30')\n",
    "\n",
    "# Displaying how the excel file will look like\n",
    "print(f'Excel file preview: \\n{data}')"
   ]
  },
  {
   "cell_type": "code",
   "execution_count": null,
   "metadata": {},
   "outputs": [],
   "source": []
  }
 ],
 "metadata": {
  "kernelspec": {
   "display_name": "Python 3",
   "language": "python",
   "name": "python3"
  },
  "language_info": {
   "codemirror_mode": {
    "name": "ipython",
    "version": 3
   },
   "file_extension": ".py",
   "mimetype": "text/x-python",
   "name": "python",
   "nbconvert_exporter": "python",
   "pygments_lexer": "ipython3",
   "version": "3.8.2"
  }
 },
 "nbformat": 4,
 "nbformat_minor": 4
}
